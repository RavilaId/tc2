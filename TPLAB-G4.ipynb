{
 "cells": [
  {
   "cell_type": "markdown",
   "id": "7c0d9dc3",
   "metadata": {},
   "source": [
    "# TP LAB - GRUPO 4\n",
    "\n",
    "## TEORIA MODERNA DE FLTROS\n",
    "\n",
    "Implementar un fltro de máxima planicidad. \n",
    "Pasa Altos, que tenga una atenuación en la banda de paso de 1dB y en la banda de rechazo de 10dB.\n",
    "Con una frecuencia límite de la banda de paso de 22kHz, y en la banda eliminación de 8.2kHz. \n",
    "</br>\n",
    "Considere una ganancia de 18dB en la banda de paso."
   ]
  },
  {
   "cell_type": "markdown",
   "id": "65e25821",
   "metadata": {},
   "source": [
    "1. Grafique la plantilla con los requisitos del diseño. \n",
    "\n",
    "   Indique los valores asumidos.  \n",
    "\n",
    "   Grafique la función de aproximación ajustada a los límites de la plantilla."
   ]
  },
  {
   "cell_type": "markdown",
   "id": "f76e1d38",
   "metadata": {},
   "source": [
    "Para realizar la plantilla utilizamos los siguintes valores:\n",
    "\n",
    "$\\alpha_{max} = 1 $ dB    \n",
    "$\\omega_{p} = 2 \\pi * 22000$  rad/s\n",
    " \n",
    "$\\alpha_{min} = 10$ dB   \n",
    "$\\omega_{s} = 2 \\pi * 8200$  rad/s\n",
    "\n",
    "$G_{bp} =18$ dB\n",
    "\n",
    "Para el requerimiento de 18db en la banda de paso, vamos a plantear el uso de una etapa de ganacia al final del filtro, de manera de realizar todo el diseño referido a una $G_{bp}$.\n"
   ]
  },
  {
   "cell_type": "markdown",
   "id": "b5461a89",
   "metadata": {},
   "source": [
    "### normalizamos la plantilla:"
   ]
  },
  {
   "cell_type": "code",
   "execution_count": 43,
   "id": "eaf7cc14",
   "metadata": {
    "scrolled": false
   },
   "outputs": [
    {
     "name": "stdout",
     "output_type": "stream",
     "text": [
      "Ws 51522.119518872605 Hz\n",
      "Wp 138230.07675795088 Hz\n"
     ]
    }
   ],
   "source": [
    "print(\"Ws \" + str(w_s) + \" Hz\")\n",
    "print(\"Wp \" + str(w_p) + \" Hz\")"
   ]
  },
  {
   "cell_type": "code",
   "execution_count": 44,
   "id": "00149618",
   "metadata": {
    "scrolled": false
   },
   "outputs": [
    {
     "data": {
      "image/png": "[encoded data removed]",
      "text/plain": [
       "<Figure size 432x288 with 1 Axes>"
      ]
     },
     "metadata": {
      "needs_background": "light"
     },
     "output_type": "display_data"
    }
   ],
   "source": [
    "# Grafica de la plantilla \n",
    "\n",
    "import numpy as np\n",
    "import math as m\n",
    "import matplotlib.pyplot as plt\n",
    "\n",
    "# Requerimientos: \n",
    "# atenuaciones\n",
    "alpha_min = 10 \n",
    "alpha_max = 1 \n",
    "\n",
    "# w de paso y stop\n",
    "w_p = 2 * m.pi * 22000\n",
    "w_s = 2 * m.pi * 8200\n",
    "\n",
    "# Normalizamos respecto a wp\n",
    "w_pn = w_p/w_p \n",
    "w_sn = w_s/w_p\n",
    "\n",
    "# lineas para la banda de paso y stop\n",
    "bpn = np.linspace(w_pn, 5*w_pn)\n",
    "bsn = np.linspace(0, w_sn)  \n",
    "\n",
    "# Lineas verticales adicionales\n",
    "ref_bp_max = np.linspace(0,alpha_max)\n",
    "ref_bp_min = np.linspace(0,alpha_min)\n",
    "\n",
    "# Plantilla de atenuación Pasa Altos normalizada\n",
    "fig, ax = plt.subplots()\n",
    "ax.ticklabel_format(useOffset=False)\n",
    "ax.set_ylabel('Att [db}')\n",
    "ax.set_xlabel('w/wp')\n",
    "ax.grid(True)\n",
    "ticks = range(0, 11 )\n",
    "ax.set_xticks(ticks)\n",
    "\n",
    "ax.plot(bpn, [alpha_max] * len(bpn), '-b')\n",
    "ax.plot(bsn, [alpha_min] * len(bsn), '-b')\n",
    "ax.plot([w_pn] * len(ref_bp_max), ref_bp_max, '-b')\n",
    "ax.plot([w_sn] * len(ref_bp_min), ref_bp_min, '-b')\n",
    "\n",
    "plt.show()\n"
   ]
  },
  {
   "cell_type": "markdown",
   "id": "2b943dc3",
   "metadata": {},
   "source": [
    "2. Obtener el orden del filtro en forma analítica. \n",
    "\n",
    "   Verificar utilizando matlab."
   ]
  },
  {
   "cell_type": "markdown",
   "id": "78246c46",
   "metadata": {},
   "source": [
    "### Obtener la plantilla equivalente del filtro pasabajos prototipo:"
   ]
  },
  {
   "cell_type": "code",
   "execution_count": 45,
   "id": "289af2a0",
   "metadata": {},
   "outputs": [
    {
     "name": "stdout",
     "output_type": "stream",
     "text": [
      "wp_lp = 1.0, ws_lp = 2.6829268292682924\n"
     ]
    }
   ],
   "source": [
    "wp_lp = 1 / w_pn\n",
    "ws_lp = 1 / w_sn\n",
    "\n",
    "print(f'wp_lp = {wp_lp}, ws_lp = {ws_lp}')"
   ]
  },
  {
   "cell_type": "markdown",
   "id": "5323afa9",
   "metadata": {},
   "source": [
    "### Determinamos  $\\epsilon$ y el orden N del filtro"
   ]
  },
  {
   "cell_type": "markdown",
   "id": "0ede5474",
   "metadata": {},
   "source": [
    "$ \\epsilon = \\sqrt{10^{0.1\\alpha_{max}} - 1} $\n",
    "\n",
    "\n",
    "$ N = \\frac{log(\\frac{10^{0.1\\alpha_{min}} - 1} { E^{2} } )}{2 log(w_s)} $  "
   ]
  },
  {
   "cell_type": "code",
   "execution_count": 46,
   "id": "596dc7ee",
   "metadata": {},
   "outputs": [
    {
     "name": "stdout",
     "output_type": "stream",
     "text": [
      " $\\epsilon$: 0.5088471399095875, N = 1.797755589209243, N => 2\n"
     ]
    }
   ],
   "source": [
    "alpha_max = 1    # dB\n",
    "alpha_min = 10   # dB\n",
    "\n",
    "epsilon = m.sqrt(m.pow(10, 0.1 * alpha_max) - 1)\n",
    "N = m.log10((m.pow(10, alpha_min * 0.1) - 1) / (m.pow(epsilon, 2))) / (2 * m.log10(ws_lp))\n",
    "\n",
    "print(f' $\\epsilon$: {epsilon}, N = {N}, N => {m.ceil(N)}')"
   ]
  },
  {
   "cell_type": "code",
   "execution_count": null,
   "id": "1bdbe204",
   "metadata": {},
   "outputs": [],
   "source": []
  },
  {
   "cell_type": "markdown",
   "id": "3029fce0",
   "metadata": {},
   "source": [
    "3. Obtención de las expresiones que representan el módulo, fase y retardo de grupo para la estructura diseñada. \n",
    "\n",
    "   Deben constar en el informe todos los pasos utilizados en el proceso."
   ]
  },
  {
   "cell_type": "markdown",
   "id": "e30e429d",
   "metadata": {},
   "source": [
    "4. Realice el diagrama de polos-ceros."
   ]
  },
  {
   "cell_type": "markdown",
   "id": "2b4e8868",
   "metadata": {},
   "source": [
    "5. Utilizando MATLAB, obtener la gráfica de respuesta en frecuencia (módulo y fase) correspondiente a cada filtro requerido, así como la gráfica del retardo de grupo que introduce."
   ]
  },
  {
   "cell_type": "markdown",
   "id": "192612c7",
   "metadata": {},
   "source": [
    "6. Diseñe el filtro utilizando una topología tipo Variable de estado (KHN)."
   ]
  },
  {
   "cell_type": "markdown",
   "id": "eae745d4",
   "metadata": {},
   "source": [
    "7. Utilizando herramientas de simulación (Electronic Workbench, Multisim, Tina, LTspice, etc.) obtenga la transferencia de los filtros requeridos y verifique que cumple con lo pedido. Realice la simulación con componentes ideales (R, L, C, AOs), y luego reemplácelos por los que utilizará en el armado (R, L, C con los valores comerciales, y el modelo del AO a utilizar). Identifique las diferencias en ambas simulaciones, si las hay, y trate de justificarlas."
   ]
  },
  {
   "cell_type": "markdown",
   "id": "bfe0b336",
   "metadata": {},
   "source": [
    "8. Utilizando componentes comerciales, arme el circuito y mida las transferencias simuladas. Realice las gráficas de Bode (módulo y fase), y del retardo de grupo introducido por el filtro. Verifique que cumple con los requerimientos. Explique las diferencias, si las hay"
   ]
  },
  {
   "cell_type": "markdown",
   "id": "f17335fa",
   "metadata": {},
   "source": [
    "9. Indique el “setup” utilizado en la medición (tipo y modelo del instrumental utilizado, diagrama o fotografías de conexionado)."
   ]
  },
  {
   "cell_type": "markdown",
   "id": "880813d6",
   "metadata": {},
   "source": [
    "10. Conclusiones. Las mismas deben incluir los problemas con los que se han encontrado a lo largo del proceso de diseño, simulación, armado y medición. Se deben incluir las referencias que les permitieron encontrar las soluciones (notas de aplicación, hojas de datos, páginas de Internet, mails de consulta, etc.). Indique si ha encontrado diferencias en el uso de las topologías sugeridas."
   ]
  }
 ],
 "metadata": {
  "kernelspec": {
   "display_name": "Python 3 (ipykernel)",
   "language": "python",
   "name": "python3"
  },
  "language_info": {
   "codemirror_mode": {
    "name": "ipython",
    "version": 3
   },
   "file_extension": ".py",
   "mimetype": "text/x-python",
   "name": "python",
   "nbconvert_exporter": "python",
   "pygments_lexer": "ipython3",
   "version": "3.9.12"
  }
 },
 "nbformat": 4,
 "nbformat_minor": 5
}
